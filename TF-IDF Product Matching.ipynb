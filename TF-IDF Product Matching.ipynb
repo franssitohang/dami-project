{
 "cells": [
  {
   "cell_type": "code",
   "execution_count": 1,
   "metadata": {},
   "outputs": [
    {
     "data": {
      "text/plain": [
       "(61456, 10)"
      ]
     },
     "execution_count": 1,
     "metadata": {},
     "output_type": "execute_result"
    }
   ],
   "source": [
    "import pandas as pd\n",
    "import numpy as np\n",
    "from scipy.stats import randint\n",
    "import seaborn as sns # used for plot interactive graph. \n",
    "import matplotlib.pyplot as plt\n",
    "import seaborn as sns\n",
    "from io import StringIO\n",
    "from sklearn.feature_extraction.text import TfidfVectorizer\n",
    "from sklearn.feature_selection import chi2\n",
    "from IPython.display import display\n",
    "from sklearn.model_selection import train_test_split\n",
    "from sklearn.feature_extraction.text import TfidfTransformer\n",
    "from sklearn.naive_bayes import MultinomialNB\n",
    "from sklearn.linear_model import LogisticRegression\n",
    "from sklearn.ensemble import RandomForestClassifier\n",
    "from sklearn.svm import LinearSVC\n",
    "from sklearn.model_selection import cross_val_score\n",
    "from sklearn.metrics import confusion_matrix\n",
    "from sklearn import metrics\n",
    "\n",
    "data = pd.read_csv(\"E:/SEMESTER 7/PD/PROYEK/myntra-mens-product-dataset/men-products.csv\", delimiter=',', index_col=0)\n",
    "data.shape"
   ]
  },
  {
   "cell_type": "code",
   "execution_count": 2,
   "metadata": {},
   "outputs": [
    {
     "name": "stdout",
     "output_type": "stream",
     "text": [
      "<class 'pandas.core.frame.DataFrame'>\n",
      "Int64Index: 61456 entries, 1 to 61503\n",
      "Data columns (total 10 columns):\n",
      "NAME                   61455 non-null object\n",
      "CATEGORY               61456 non-null object\n",
      "DESCRIPTION & COLOR    61456 non-null object\n",
      "FABRIC                 56623 non-null object\n",
      "IMAGE                  61456 non-null object\n",
      "SIZE                   57618 non-null object\n",
      "PRICE                  61456 non-null object\n",
      "PRODUCT ID             61456 non-null int64\n",
      "WEBSITE                61456 non-null object\n",
      "PRODUCT URL            61456 non-null object\n",
      "dtypes: int64(1), object(9)\n",
      "memory usage: 5.2+ MB\n"
     ]
    }
   ],
   "source": [
    "data.info()"
   ]
  },
  {
   "cell_type": "markdown",
   "metadata": {},
   "source": [
    "## Data Preprocessing"
   ]
  },
  {
   "cell_type": "markdown",
   "metadata": {},
   "source": [
    "### 1. Handling Missing Values"
   ]
  },
  {
   "cell_type": "code",
   "execution_count": 3,
   "metadata": {},
   "outputs": [
    {
     "data": {
      "text/html": [
       "<div>\n",
       "<style scoped>\n",
       "    .dataframe tbody tr th:only-of-type {\n",
       "        vertical-align: middle;\n",
       "    }\n",
       "\n",
       "    .dataframe tbody tr th {\n",
       "        vertical-align: top;\n",
       "    }\n",
       "\n",
       "    .dataframe thead th {\n",
       "        text-align: right;\n",
       "    }\n",
       "</style>\n",
       "<table border=\"1\" class=\"dataframe\">\n",
       "  <thead>\n",
       "    <tr style=\"text-align: right;\">\n",
       "      <th></th>\n",
       "      <th>total_missing</th>\n",
       "      <th>percent_missing</th>\n",
       "    </tr>\n",
       "  </thead>\n",
       "  <tbody>\n",
       "    <tr>\n",
       "      <th>NAME</th>\n",
       "      <td>1</td>\n",
       "      <td>0.005</td>\n",
       "    </tr>\n",
       "    <tr>\n",
       "      <th>CATEGORY</th>\n",
       "      <td>0</td>\n",
       "      <td>0.000</td>\n",
       "    </tr>\n",
       "    <tr>\n",
       "      <th>DESCRIPTION &amp; COLOR</th>\n",
       "      <td>0</td>\n",
       "      <td>0.000</td>\n",
       "    </tr>\n",
       "    <tr>\n",
       "      <th>FABRIC</th>\n",
       "      <td>4833</td>\n",
       "      <td>24.165</td>\n",
       "    </tr>\n",
       "    <tr>\n",
       "      <th>IMAGE</th>\n",
       "      <td>0</td>\n",
       "      <td>0.000</td>\n",
       "    </tr>\n",
       "    <tr>\n",
       "      <th>SIZE</th>\n",
       "      <td>3838</td>\n",
       "      <td>19.190</td>\n",
       "    </tr>\n",
       "    <tr>\n",
       "      <th>PRICE</th>\n",
       "      <td>0</td>\n",
       "      <td>0.000</td>\n",
       "    </tr>\n",
       "    <tr>\n",
       "      <th>PRODUCT ID</th>\n",
       "      <td>0</td>\n",
       "      <td>0.000</td>\n",
       "    </tr>\n",
       "    <tr>\n",
       "      <th>WEBSITE</th>\n",
       "      <td>0</td>\n",
       "      <td>0.000</td>\n",
       "    </tr>\n",
       "    <tr>\n",
       "      <th>PRODUCT URL</th>\n",
       "      <td>0</td>\n",
       "      <td>0.000</td>\n",
       "    </tr>\n",
       "  </tbody>\n",
       "</table>\n",
       "</div>"
      ],
      "text/plain": [
       "                     total_missing  percent_missing\n",
       "NAME                             1            0.005\n",
       "CATEGORY                         0            0.000\n",
       "DESCRIPTION & COLOR              0            0.000\n",
       "FABRIC                        4833           24.165\n",
       "IMAGE                            0            0.000\n",
       "SIZE                          3838           19.190\n",
       "PRICE                            0            0.000\n",
       "PRODUCT ID                       0            0.000\n",
       "WEBSITE                          0            0.000\n",
       "PRODUCT URL                      0            0.000"
      ]
     },
     "execution_count": 3,
     "metadata": {},
     "output_type": "execute_result"
    }
   ],
   "source": [
    "missing_data = pd.DataFrame({'total_missing': data.isnull().sum(), 'percent_missing': (data.isnull().sum()/20000)*100})\n",
    "missing_data"
   ]
  },
  {
   "cell_type": "code",
   "execution_count": 4,
   "metadata": {},
   "outputs": [
    {
     "data": {
      "text/plain": [
       "NAME                   0\n",
       "CATEGORY               0\n",
       "DESCRIPTION & COLOR    0\n",
       "FABRIC                 0\n",
       "IMAGE                  0\n",
       "SIZE                   0\n",
       "PRICE                  0\n",
       "PRODUCT ID             0\n",
       "WEBSITE                0\n",
       "PRODUCT URL            0\n",
       "dtype: int64"
      ]
     },
     "execution_count": 4,
     "metadata": {},
     "output_type": "execute_result"
    }
   ],
   "source": [
    "# Isi data Na dengan nilai Null\n",
    "data.fillna(\"Null\", inplace = True) \n",
    "data.isnull().sum()"
   ]
  },
  {
   "cell_type": "markdown",
   "metadata": {},
   "source": [
    "### 2. Data Duplication"
   ]
  },
  {
   "cell_type": "code",
   "execution_count": 5,
   "metadata": {},
   "outputs": [
    {
     "data": {
      "text/plain": [
       "0"
      ]
     },
     "execution_count": 5,
     "metadata": {},
     "output_type": "execute_result"
    }
   ],
   "source": [
    "data.duplicated().sum()"
   ]
  },
  {
   "cell_type": "markdown",
   "metadata": {},
   "source": [
    "## Exploratory Data Analysis"
   ]
  },
  {
   "cell_type": "code",
   "execution_count": 6,
   "metadata": {},
   "outputs": [],
   "source": [
    "data.rename(columns = {'DESCRIPTION & COLOR':'DESCRIPTION'}, inplace = True) "
   ]
  },
  {
   "cell_type": "code",
   "execution_count": 7,
   "metadata": {},
   "outputs": [
    {
     "data": {
      "text/plain": [
       "Index(['NAME', 'CATEGORY', 'DESCRIPTION', 'FABRIC', 'IMAGE', 'SIZE', 'PRICE',\n",
       "       'PRODUCT ID', 'WEBSITE', 'PRODUCT URL'],\n",
       "      dtype='object')"
      ]
     },
     "execution_count": 7,
     "metadata": {},
     "output_type": "execute_result"
    }
   ],
   "source": [
    "data.columns"
   ]
  },
  {
   "cell_type": "code",
   "execution_count": 8,
   "metadata": {},
   "outputs": [],
   "source": [
    "data1 = data.sample(10000, random_state=1).copy()"
   ]
  },
  {
   "cell_type": "code",
   "execution_count": 9,
   "metadata": {},
   "outputs": [
    {
     "data": {
      "text/plain": [
       "array([['men-jackets-coats'],\n",
       "       ['Men-Formal-Trousers'],\n",
       "       ['Innerwear & Sleapwear'],\n",
       "       ['formal-shirts'],\n",
       "       ['T-Shirts'],\n",
       "       ['Jeans'],\n",
       "       ['casual-shirts'],\n",
       "       ['Men-Casual-Trousers'],\n",
       "       ['accessories'],\n",
       "       ['men-suits'],\n",
       "       ['men-swimwear']], dtype=object)"
      ]
     },
     "execution_count": 9,
     "metadata": {},
     "output_type": "execute_result"
    }
   ],
   "source": [
    "pd.DataFrame(data1.CATEGORY.unique()).values"
   ]
  },
  {
   "cell_type": "code",
   "execution_count": 10,
   "metadata": {},
   "outputs": [],
   "source": [
    "# Rename kategori produk\n",
    "data1.replace({'CATEGORY': \n",
    "             {'accessories': 'Accesories', \n",
    "              'casual-shirts': 'Casual Shirts',\n",
    "              'Men-Casual-Trousers': 'Men Casual Trousers',\n",
    "              'formal-shirts': 'Formal Shirts',\n",
    "              'Men-Formal-Trousers': 'Men Formal Trousers',\n",
    "              'men-jackets-coats': 'Men Jackets Coats',\n",
    "              'men-swimwear': 'Men Swimwear',\n",
    "              'men-suits': 'Men Suits'}}, \n",
    "              inplace= True)"
   ]
  },
  {
   "cell_type": "code",
   "execution_count": 11,
   "metadata": {},
   "outputs": [
    {
     "data": {
      "text/plain": [
       "array([['Men Jackets Coats'],\n",
       "       ['Men Formal Trousers'],\n",
       "       ['Innerwear & Sleapwear'],\n",
       "       ['Formal Shirts'],\n",
       "       ['T-Shirts'],\n",
       "       ['Jeans'],\n",
       "       ['Casual Shirts'],\n",
       "       ['Men Casual Trousers'],\n",
       "       ['Accesories'],\n",
       "       ['Men Suits'],\n",
       "       ['Men Swimwear']], dtype=object)"
      ]
     },
     "execution_count": 11,
     "metadata": {},
     "output_type": "execute_result"
    }
   ],
   "source": [
    "pd.DataFrame(data1.CATEGORY.unique()).values"
   ]
  },
  {
   "cell_type": "code",
   "execution_count": 12,
   "metadata": {},
   "outputs": [
    {
     "data": {
      "text/html": [
       "<div>\n",
       "<style scoped>\n",
       "    .dataframe tbody tr th:only-of-type {\n",
       "        vertical-align: middle;\n",
       "    }\n",
       "\n",
       "    .dataframe tbody tr th {\n",
       "        vertical-align: top;\n",
       "    }\n",
       "\n",
       "    .dataframe thead th {\n",
       "        text-align: right;\n",
       "    }\n",
       "</style>\n",
       "<table border=\"1\" class=\"dataframe\">\n",
       "  <thead>\n",
       "    <tr style=\"text-align: right;\">\n",
       "      <th></th>\n",
       "      <th>NAME</th>\n",
       "      <th>CATEGORY</th>\n",
       "      <th>DESCRIPTION</th>\n",
       "      <th>FABRIC</th>\n",
       "      <th>IMAGE</th>\n",
       "      <th>SIZE</th>\n",
       "      <th>PRICE</th>\n",
       "      <th>PRODUCT ID</th>\n",
       "      <th>WEBSITE</th>\n",
       "      <th>PRODUCT URL</th>\n",
       "      <th>CATEGORY_ID</th>\n",
       "    </tr>\n",
       "    <tr>\n",
       "      <th>SERIAL NO</th>\n",
       "      <th></th>\n",
       "      <th></th>\n",
       "      <th></th>\n",
       "      <th></th>\n",
       "      <th></th>\n",
       "      <th></th>\n",
       "      <th></th>\n",
       "      <th></th>\n",
       "      <th></th>\n",
       "      <th></th>\n",
       "      <th></th>\n",
       "    </tr>\n",
       "  </thead>\n",
       "  <tbody>\n",
       "    <tr>\n",
       "      <th>25553</th>\n",
       "      <td>Fort Collins Men Red Solid Padded Jacket</td>\n",
       "      <td>Men Jackets Coats</td>\n",
       "      <td>Fort Collins Men Red Solid Padded Jacket,  For...</td>\n",
       "      <td>Nylon</td>\n",
       "      <td>https://assets.myntassets.com/h_1440,q_100,w_1...</td>\n",
       "      <td>The model (height 6') is wearing a size M</td>\n",
       "      <td>1799</td>\n",
       "      <td>7695293</td>\n",
       "      <td>Myntra</td>\n",
       "      <td>https://www.myntra.com/jackets/fort-collins/fo...</td>\n",
       "      <td>0</td>\n",
       "    </tr>\n",
       "    <tr>\n",
       "      <th>18640</th>\n",
       "      <td>MANGO MAN Men Navy Blue Tailored Slim Fit Soli...</td>\n",
       "      <td>Men Formal Trousers</td>\n",
       "      <td>MANGO MAN Men Navy Blue Tailored Slim Fit Soli...</td>\n",
       "      <td>69% polyester, 29% viscose, 2% elastane</td>\n",
       "      <td>https://assets.myntassets.com/h_1440,q_100,w_1...</td>\n",
       "      <td>Tailored slim fit</td>\n",
       "      <td>3493</td>\n",
       "      <td>5567522</td>\n",
       "      <td>Myntra</td>\n",
       "      <td>https://www.myntra.com/trousers/mango-man/mang...</td>\n",
       "      <td>1</td>\n",
       "    </tr>\n",
       "    <tr>\n",
       "      <th>18543</th>\n",
       "      <td>Arrow Men Navy Blue Tapered Fit Checked Formal...</td>\n",
       "      <td>Men Formal Trousers</td>\n",
       "      <td>Arrow Men Navy Blue Tapered Fit Checked Formal...</td>\n",
       "      <td>Polyester and viscose rayon</td>\n",
       "      <td>https://assets.myntassets.com/h_1440,q_100,w_1...</td>\n",
       "      <td>Tapered Fit</td>\n",
       "      <td>999</td>\n",
       "      <td>7248825</td>\n",
       "      <td>Myntra</td>\n",
       "      <td>https://www.myntra.com/trousers/arrow/arrow-me...</td>\n",
       "      <td>1</td>\n",
       "    </tr>\n",
       "    <tr>\n",
       "      <th>21475</th>\n",
       "      <td>Hanes Charcoal Grey Thermal T-Shirt</td>\n",
       "      <td>Innerwear &amp; Sleapwear</td>\n",
       "      <td>Hanes Charcoal Grey Thermal T Shirt,  Hanes, T...</td>\n",
       "      <td>60% polyester, 40% cotton</td>\n",
       "      <td>https://assets.myntassets.com/h_1440,q_100,w_1...</td>\n",
       "      <td>The model (height 6') is wearing a size M</td>\n",
       "      <td>424</td>\n",
       "      <td>2159310</td>\n",
       "      <td>Myntra</td>\n",
       "      <td>https://www.myntra.com/thermal-tops/hanes/hane...</td>\n",
       "      <td>2</td>\n",
       "    </tr>\n",
       "    <tr>\n",
       "      <th>14859</th>\n",
       "      <td>Hancock Men Blue Regular Fit Striped Formal Shirt</td>\n",
       "      <td>Formal Shirts</td>\n",
       "      <td>Hancock Men Blue Regular Fit Striped Formal Sh...</td>\n",
       "      <td>Cotton</td>\n",
       "      <td>https://assets.myntassets.com/h_1440,q_100,w_1...</td>\n",
       "      <td>Regular fit</td>\n",
       "      <td>759</td>\n",
       "      <td>7480995</td>\n",
       "      <td>Myntra</td>\n",
       "      <td>https://www.myntra.com/shirts/hancock/hancock-...</td>\n",
       "      <td>3</td>\n",
       "    </tr>\n",
       "  </tbody>\n",
       "</table>\n",
       "</div>"
      ],
      "text/plain": [
       "                                                        NAME  \\\n",
       "SERIAL NO                                                      \n",
       "25553               Fort Collins Men Red Solid Padded Jacket   \n",
       "18640      MANGO MAN Men Navy Blue Tailored Slim Fit Soli...   \n",
       "18543      Arrow Men Navy Blue Tapered Fit Checked Formal...   \n",
       "21475                    Hanes Charcoal Grey Thermal T-Shirt   \n",
       "14859      Hancock Men Blue Regular Fit Striped Formal Shirt   \n",
       "\n",
       "                        CATEGORY  \\\n",
       "SERIAL NO                          \n",
       "25553          Men Jackets Coats   \n",
       "18640        Men Formal Trousers   \n",
       "18543        Men Formal Trousers   \n",
       "21475      Innerwear & Sleapwear   \n",
       "14859              Formal Shirts   \n",
       "\n",
       "                                                 DESCRIPTION  \\\n",
       "SERIAL NO                                                      \n",
       "25553      Fort Collins Men Red Solid Padded Jacket,  For...   \n",
       "18640      MANGO MAN Men Navy Blue Tailored Slim Fit Soli...   \n",
       "18543      Arrow Men Navy Blue Tapered Fit Checked Formal...   \n",
       "21475      Hanes Charcoal Grey Thermal T Shirt,  Hanes, T...   \n",
       "14859      Hancock Men Blue Regular Fit Striped Formal Sh...   \n",
       "\n",
       "                                            FABRIC  \\\n",
       "SERIAL NO                                            \n",
       "25553                                        Nylon   \n",
       "18640      69% polyester, 29% viscose, 2% elastane   \n",
       "18543                  Polyester and viscose rayon   \n",
       "21475                    60% polyester, 40% cotton   \n",
       "14859                                       Cotton   \n",
       "\n",
       "                                                       IMAGE  \\\n",
       "SERIAL NO                                                      \n",
       "25553      https://assets.myntassets.com/h_1440,q_100,w_1...   \n",
       "18640      https://assets.myntassets.com/h_1440,q_100,w_1...   \n",
       "18543      https://assets.myntassets.com/h_1440,q_100,w_1...   \n",
       "21475      https://assets.myntassets.com/h_1440,q_100,w_1...   \n",
       "14859      https://assets.myntassets.com/h_1440,q_100,w_1...   \n",
       "\n",
       "                                                SIZE PRICE  PRODUCT ID  \\\n",
       "SERIAL NO                                                                \n",
       "25553      The model (height 6') is wearing a size M  1799     7695293   \n",
       "18640                              Tailored slim fit  3493     5567522   \n",
       "18543                                    Tapered Fit   999     7248825   \n",
       "21475      The model (height 6') is wearing a size M   424     2159310   \n",
       "14859                                    Regular fit   759     7480995   \n",
       "\n",
       "          WEBSITE                                        PRODUCT URL  \\\n",
       "SERIAL NO                                                              \n",
       "25553      Myntra  https://www.myntra.com/jackets/fort-collins/fo...   \n",
       "18640      Myntra  https://www.myntra.com/trousers/mango-man/mang...   \n",
       "18543      Myntra  https://www.myntra.com/trousers/arrow/arrow-me...   \n",
       "21475      Myntra  https://www.myntra.com/thermal-tops/hanes/hane...   \n",
       "14859      Myntra  https://www.myntra.com/shirts/hancock/hancock-...   \n",
       "\n",
       "           CATEGORY_ID  \n",
       "SERIAL NO               \n",
       "25553                0  \n",
       "18640                1  \n",
       "18543                1  \n",
       "21475                2  \n",
       "14859                3  "
      ]
     },
     "execution_count": 12,
     "metadata": {},
     "output_type": "execute_result"
    }
   ],
   "source": [
    "# Create a new column 'category_id' with encoded categories \n",
    "data1['CATEGORY_ID'] = data1['CATEGORY'].factorize()[0]\n",
    "CATEGORY_ID_DF = data1[['CATEGORY', 'CATEGORY_ID']].drop_duplicates()\n",
    "\n",
    "\n",
    "# Dictionaries for future use\n",
    "CATEGORY_TO_ID = dict(CATEGORY_ID_DF.values)\n",
    "ID_TO_CATEGORY = dict(CATEGORY_ID_DF[['CATEGORY_ID', 'CATEGORY']].values)\n",
    "\n",
    "# New dataframe\n",
    "data1.head()"
   ]
  },
  {
   "cell_type": "code",
   "execution_count": 13,
   "metadata": {},
   "outputs": [
    {
     "data": {
      "image/png": "[encoded data removed]",
      "text/plain": [
       "<Figure size 576x432 with 1 Axes>"
      ]
     },
     "metadata": {
      "needs_background": "light"
     },
     "output_type": "display_data"
    }
   ],
   "source": [
    "fig = plt.figure(figsize=(8,6))\n",
    "colors = ['grey','grey','grey','grey','grey','grey','grey','grey','grey',\n",
    "    'grey','darkblue','darkblue','darkblue']\n",
    "data1.groupby('CATEGORY').NAME.count().sort_values().plot.barh(\n",
    "    ylim=0, color=colors, title= 'NUMBER OF PRODUCT NAME IN EACH PRODUCT CATEGORY\\n')\n",
    "plt.xlabel('Number of ocurrences', fontsize = 10);"
   ]
  },
  {
   "cell_type": "code",
   "execution_count": 14,
   "metadata": {},
   "outputs": [
    {
     "data": {
      "text/plain": [
       "array(['Men Jackets Coats', 'Men Formal Trousers',\n",
       "       'Innerwear & Sleapwear', 'Formal Shirts', 'T-Shirts', 'Jeans',\n",
       "       'Casual Shirts', 'Men Casual Trousers', 'Accesories', 'Men Suits',\n",
       "       'Men Swimwear'], dtype=object)"
      ]
     },
     "execution_count": 14,
     "metadata": {},
     "output_type": "execute_result"
    }
   ],
   "source": [
    "data1.CATEGORY.unique()"
   ]
  },
  {
   "cell_type": "markdown",
   "metadata": {},
   "source": [
    "## Text Preprocessing"
   ]
  },
  {
   "cell_type": "code",
   "execution_count": 15,
   "metadata": {},
   "outputs": [],
   "source": [
    "import string\n",
    "import nltk\n",
    "from nltk.corpus import stopwords\n",
    "from nltk.tokenize import word_tokenize \n",
    "from nltk.stem import PorterStemmer\n",
    "from nltk.stem import WordNetLemmatizer\n",
    "from nltk import ngrams"
   ]
  },
  {
   "cell_type": "markdown",
   "metadata": {},
   "source": [
    "### 1. Punctuation Removal"
   ]
  },
  {
   "cell_type": "code",
   "execution_count": 16,
   "metadata": {},
   "outputs": [
    {
     "name": "stdout",
     "output_type": "stream",
     "text": [
      "SERIAL NO\n",
      "25553             Fort Collins Men Red Solid Padded Jacket\n",
      "18640    MANGO MAN Men Navy Blue Tailored Slim Fit Soli...\n",
      "18543    Arrow Men Navy Blue Tapered Fit Checked Formal...\n",
      "21475                   Hanes Charcoal Grey Thermal TShirt\n",
      "14859    Hancock Men Blue Regular Fit Striped Formal Shirt\n",
      "59190           Tantra Men Black Printed Round Neck Tshirt\n",
      "35662    Aeropostale Men Blue Regular Fit MidRise Mildl...\n",
      "3632     ether Men Navy Blue Slim Fit Anti Microbial Co...\n",
      "26606    Roadster Men White Regular Fit MidRise Clean L...\n",
      "21323           Dollar Bigboss Pack of 3 Trunks MDTR03PO34\n",
      "45072     Moda Rapido Men Black Printed Polo Collar Tshirt\n",
      "15013    Louis Philippe Men Grey Regular Fit Self Desig...\n",
      "27049                 Light Blue Mid Rise Skinny Fit Jeans\n",
      "4661     HIGHLANDER Men Olive Green Slim Fit Camouflage...\n",
      "6207     US Polo Assn Denim Co Men White  Blue Slim Fit...\n",
      "5286       Levis Men Navy Blue Slim Fit Solid Casual Shirt\n",
      "23572    Louis Philippe Sport Men Charcoal Grey Solid T...\n",
      "34600    Killer Men Blue Regular Fit MidRise Clean Look...\n",
      "10005    Peter England Casuals Men Grey Slim Fit Solid ...\n",
      "20909     Arrow Men Grey Tapered Fit Solid Formal Trousers\n",
      "20693    V Dot Men Grey Slim Fit Self Design Formal Tro...\n",
      "49918            GESPO Men White Printed Round Neck Tshirt\n",
      "23266    SMAG Men Mustard Solid Lightweight Tailored Ja...\n",
      "10756    Jack  Jones Men Black Slim Fit Solid Regular T...\n",
      "15963    Van Heusen Men Blue Regular Fit Solid Formal S...\n",
      "47286                   Maniac Men Grey Solid VNeck Tshirt\n",
      "26944    HERENOW Men Blue Slim Fit MidRise Clean Look S...\n",
      "11730    Blackberrys Men Navy Blue Printed Casual Trousers\n",
      "47412    Moda Rapido Men White Printed Round Neck Longl...\n",
      "22579        Fort Collins Men Tan Brown Solid Biker Jacket\n",
      "24611       Fort Collins Men Rust Brown Solid Biker Jacket\n",
      "42715    ESPRIT Men Navy  OffWhite Striped Round Neck T...\n",
      "8297     US Polo Assn Men Olive Green Regular Fit Solid...\n",
      "56204            Jockey Men Navy Blue Striped VNeck Tshirt\n",
      "46006    Indian Terrain Men Rust Red Solid Polo Collar ...\n",
      "1762             Pacific Gold Men Black Accessory Gift Set\n",
      "24300                    WROGN Men Navy Solid Biker Jacket\n",
      "35098    LOCOMOTIVE Men Blue Slim Fit MidRise Clean Loo...\n",
      "37167                           Blue Washed Slim Fit Jeans\n",
      "50440        LOCOMOTIVE Men Rust Printed Round Neck Tshirt\n",
      "48442    WROGN Men Olive Green Colourblocked Round Neck...\n",
      "55592              Killer Men Red Solid Polo Collar Tshirt\n",
      "15575    Van Heusen Men Blue Contemporary Regular Fit C...\n",
      "16862      Van Heusen Men Blue Slim Fit Solid Casual Shirt\n",
      "54589      Cottonworld Men Black Printed Round Neck Tshirt\n",
      "42101    Reebok Men Blue Athletic Graphic Printed Round...\n",
      "50666    Moda Rapido Men Black  Olive Green Colourblock...\n",
      "55328                    2GO Men Black Printed Polo Tshirt\n",
      "43197    Roadster Men Navy Blue Colourblocked Round Nec...\n",
      "640      Knotyy Men Grey Colourblocked SelfDesign Beani...\n",
      "Name: NAME, dtype: object\n"
     ]
    }
   ],
   "source": [
    "# Punctuation Removal\n",
    "data1['NAME'] = data1['NAME'].str.replace('[^\\w\\s]','')\n",
    "# Hasil Punctuation Removal\n",
    "print(data1[\"NAME\"].head(50))"
   ]
  },
  {
   "cell_type": "markdown",
   "metadata": {},
   "source": [
    "### 2. Convert String to Lower"
   ]
  },
  {
   "cell_type": "code",
   "execution_count": 17,
   "metadata": {},
   "outputs": [
    {
     "name": "stdout",
     "output_type": "stream",
     "text": [
      "SERIAL NO\n",
      "25553             fort collins men red solid padded jacket\n",
      "18640    mango man men navy blue tailored slim fit soli...\n",
      "18543    arrow men navy blue tapered fit checked formal...\n",
      "21475                   hanes charcoal grey thermal tshirt\n",
      "14859    hancock men blue regular fit striped formal shirt\n",
      "Name: NAME, dtype: object\n"
     ]
    }
   ],
   "source": [
    "# mengubah ke huruf kecil\n",
    "data1['NAME'] = data1['NAME'].str.lower()\n",
    "print(data1['NAME'].head(5))"
   ]
  },
  {
   "cell_type": "markdown",
   "metadata": {},
   "source": [
    "### 3. Remove Stop Words & Stemming"
   ]
  },
  {
   "cell_type": "code",
   "execution_count": 18,
   "metadata": {},
   "outputs": [],
   "source": [
    "import re\n",
    "from nltk.corpus import stopwords\n",
    "import pandas as pd\n",
    "from nltk.stem import PorterStemmer\n",
    "from nltk.tokenize import sent_tokenize, word_tokenize\n",
    "\n",
    "def preprocess(raw_text):\n",
    "\n",
    "    # keep only words\n",
    "    letters_only_text = re.sub(\"[^a-zA-Z]\", \" \", raw_text)\n",
    "\n",
    "    # convert to lower case and split \n",
    "    words = letters_only_text.lower().split()\n",
    "\n",
    "    # remove stopwords\n",
    "    stopword_set = set(stopwords.words(\"english\"))\n",
    "    meaningful_words = [w for w in words if w not in stopword_set]\n",
    "    \n",
    "    #stemmed words\n",
    "    ps = PorterStemmer()\n",
    "    stemmed_words = [ps.stem(word) for word in meaningful_words]\n",
    "    \n",
    "    #join the cleaned words in a list\n",
    "    cleaned_word_list = \" \".join(stemmed_words)\n",
    "    \n",
    "    return cleaned_word_list"
   ]
  },
  {
   "cell_type": "code",
   "execution_count": 19,
   "metadata": {},
   "outputs": [],
   "source": [
    "data1['NAME'] = data1['NAME'].apply(lambda line : preprocess(line))"
   ]
  },
  {
   "cell_type": "code",
   "execution_count": 20,
   "metadata": {},
   "outputs": [
    {
     "data": {
      "text/html": [
       "<div>\n",
       "<style scoped>\n",
       "    .dataframe tbody tr th:only-of-type {\n",
       "        vertical-align: middle;\n",
       "    }\n",
       "\n",
       "    .dataframe tbody tr th {\n",
       "        vertical-align: top;\n",
       "    }\n",
       "\n",
       "    .dataframe thead th {\n",
       "        text-align: right;\n",
       "    }\n",
       "</style>\n",
       "<table border=\"1\" class=\"dataframe\">\n",
       "  <thead>\n",
       "    <tr style=\"text-align: right;\">\n",
       "      <th></th>\n",
       "      <th>NAME</th>\n",
       "      <th>CATEGORY</th>\n",
       "      <th>DESCRIPTION</th>\n",
       "      <th>FABRIC</th>\n",
       "      <th>IMAGE</th>\n",
       "      <th>SIZE</th>\n",
       "      <th>PRICE</th>\n",
       "      <th>PRODUCT ID</th>\n",
       "      <th>WEBSITE</th>\n",
       "      <th>PRODUCT URL</th>\n",
       "      <th>CATEGORY_ID</th>\n",
       "    </tr>\n",
       "    <tr>\n",
       "      <th>SERIAL NO</th>\n",
       "      <th></th>\n",
       "      <th></th>\n",
       "      <th></th>\n",
       "      <th></th>\n",
       "      <th></th>\n",
       "      <th></th>\n",
       "      <th></th>\n",
       "      <th></th>\n",
       "      <th></th>\n",
       "      <th></th>\n",
       "      <th></th>\n",
       "    </tr>\n",
       "  </thead>\n",
       "  <tbody>\n",
       "    <tr>\n",
       "      <th>25553</th>\n",
       "      <td>fort collin men red solid pad jacket</td>\n",
       "      <td>Men Jackets Coats</td>\n",
       "      <td>Fort Collins Men Red Solid Padded Jacket,  For...</td>\n",
       "      <td>Nylon</td>\n",
       "      <td>https://assets.myntassets.com/h_1440,q_100,w_1...</td>\n",
       "      <td>The model (height 6') is wearing a size M</td>\n",
       "      <td>1799</td>\n",
       "      <td>7695293</td>\n",
       "      <td>Myntra</td>\n",
       "      <td>https://www.myntra.com/jackets/fort-collins/fo...</td>\n",
       "      <td>0</td>\n",
       "    </tr>\n",
       "    <tr>\n",
       "      <th>18640</th>\n",
       "      <td>mango man men navi blue tailor slim fit solid ...</td>\n",
       "      <td>Men Formal Trousers</td>\n",
       "      <td>MANGO MAN Men Navy Blue Tailored Slim Fit Soli...</td>\n",
       "      <td>69% polyester, 29% viscose, 2% elastane</td>\n",
       "      <td>https://assets.myntassets.com/h_1440,q_100,w_1...</td>\n",
       "      <td>Tailored slim fit</td>\n",
       "      <td>3493</td>\n",
       "      <td>5567522</td>\n",
       "      <td>Myntra</td>\n",
       "      <td>https://www.myntra.com/trousers/mango-man/mang...</td>\n",
       "      <td>1</td>\n",
       "    </tr>\n",
       "    <tr>\n",
       "      <th>18543</th>\n",
       "      <td>arrow men navi blue taper fit check formal tro...</td>\n",
       "      <td>Men Formal Trousers</td>\n",
       "      <td>Arrow Men Navy Blue Tapered Fit Checked Formal...</td>\n",
       "      <td>Polyester and viscose rayon</td>\n",
       "      <td>https://assets.myntassets.com/h_1440,q_100,w_1...</td>\n",
       "      <td>Tapered Fit</td>\n",
       "      <td>999</td>\n",
       "      <td>7248825</td>\n",
       "      <td>Myntra</td>\n",
       "      <td>https://www.myntra.com/trousers/arrow/arrow-me...</td>\n",
       "      <td>1</td>\n",
       "    </tr>\n",
       "    <tr>\n",
       "      <th>21475</th>\n",
       "      <td>hane charcoal grey thermal tshirt</td>\n",
       "      <td>Innerwear &amp; Sleapwear</td>\n",
       "      <td>Hanes Charcoal Grey Thermal T Shirt,  Hanes, T...</td>\n",
       "      <td>60% polyester, 40% cotton</td>\n",
       "      <td>https://assets.myntassets.com/h_1440,q_100,w_1...</td>\n",
       "      <td>The model (height 6') is wearing a size M</td>\n",
       "      <td>424</td>\n",
       "      <td>2159310</td>\n",
       "      <td>Myntra</td>\n",
       "      <td>https://www.myntra.com/thermal-tops/hanes/hane...</td>\n",
       "      <td>2</td>\n",
       "    </tr>\n",
       "    <tr>\n",
       "      <th>14859</th>\n",
       "      <td>hancock men blue regular fit stripe formal shirt</td>\n",
       "      <td>Formal Shirts</td>\n",
       "      <td>Hancock Men Blue Regular Fit Striped Formal Sh...</td>\n",
       "      <td>Cotton</td>\n",
       "      <td>https://assets.myntassets.com/h_1440,q_100,w_1...</td>\n",
       "      <td>Regular fit</td>\n",
       "      <td>759</td>\n",
       "      <td>7480995</td>\n",
       "      <td>Myntra</td>\n",
       "      <td>https://www.myntra.com/shirts/hancock/hancock-...</td>\n",
       "      <td>3</td>\n",
       "    </tr>\n",
       "  </tbody>\n",
       "</table>\n",
       "</div>"
      ],
      "text/plain": [
       "                                                        NAME  \\\n",
       "SERIAL NO                                                      \n",
       "25553                   fort collin men red solid pad jacket   \n",
       "18640      mango man men navi blue tailor slim fit solid ...   \n",
       "18543      arrow men navi blue taper fit check formal tro...   \n",
       "21475                      hane charcoal grey thermal tshirt   \n",
       "14859       hancock men blue regular fit stripe formal shirt   \n",
       "\n",
       "                        CATEGORY  \\\n",
       "SERIAL NO                          \n",
       "25553          Men Jackets Coats   \n",
       "18640        Men Formal Trousers   \n",
       "18543        Men Formal Trousers   \n",
       "21475      Innerwear & Sleapwear   \n",
       "14859              Formal Shirts   \n",
       "\n",
       "                                                 DESCRIPTION  \\\n",
       "SERIAL NO                                                      \n",
       "25553      Fort Collins Men Red Solid Padded Jacket,  For...   \n",
       "18640      MANGO MAN Men Navy Blue Tailored Slim Fit Soli...   \n",
       "18543      Arrow Men Navy Blue Tapered Fit Checked Formal...   \n",
       "21475      Hanes Charcoal Grey Thermal T Shirt,  Hanes, T...   \n",
       "14859      Hancock Men Blue Regular Fit Striped Formal Sh...   \n",
       "\n",
       "                                            FABRIC  \\\n",
       "SERIAL NO                                            \n",
       "25553                                        Nylon   \n",
       "18640      69% polyester, 29% viscose, 2% elastane   \n",
       "18543                  Polyester and viscose rayon   \n",
       "21475                    60% polyester, 40% cotton   \n",
       "14859                                       Cotton   \n",
       "\n",
       "                                                       IMAGE  \\\n",
       "SERIAL NO                                                      \n",
       "25553      https://assets.myntassets.com/h_1440,q_100,w_1...   \n",
       "18640      https://assets.myntassets.com/h_1440,q_100,w_1...   \n",
       "18543      https://assets.myntassets.com/h_1440,q_100,w_1...   \n",
       "21475      https://assets.myntassets.com/h_1440,q_100,w_1...   \n",
       "14859      https://assets.myntassets.com/h_1440,q_100,w_1...   \n",
       "\n",
       "                                                SIZE PRICE  PRODUCT ID  \\\n",
       "SERIAL NO                                                                \n",
       "25553      The model (height 6') is wearing a size M  1799     7695293   \n",
       "18640                              Tailored slim fit  3493     5567522   \n",
       "18543                                    Tapered Fit   999     7248825   \n",
       "21475      The model (height 6') is wearing a size M   424     2159310   \n",
       "14859                                    Regular fit   759     7480995   \n",
       "\n",
       "          WEBSITE                                        PRODUCT URL  \\\n",
       "SERIAL NO                                                              \n",
       "25553      Myntra  https://www.myntra.com/jackets/fort-collins/fo...   \n",
       "18640      Myntra  https://www.myntra.com/trousers/mango-man/mang...   \n",
       "18543      Myntra  https://www.myntra.com/trousers/arrow/arrow-me...   \n",
       "21475      Myntra  https://www.myntra.com/thermal-tops/hanes/hane...   \n",
       "14859      Myntra  https://www.myntra.com/shirts/hancock/hancock-...   \n",
       "\n",
       "           CATEGORY_ID  \n",
       "SERIAL NO               \n",
       "25553                0  \n",
       "18640                1  \n",
       "18543                1  \n",
       "21475                2  \n",
       "14859                3  "
      ]
     },
     "execution_count": 20,
     "metadata": {},
     "output_type": "execute_result"
    }
   ],
   "source": [
    "data1.head()"
   ]
  },
  {
   "cell_type": "markdown",
   "metadata": {},
   "source": [
    "### Count Vectors "
   ]
  },
  {
   "cell_type": "code",
   "execution_count": 21,
   "metadata": {
    "scrolled": true
   },
   "outputs": [
    {
     "name": "stdout",
     "output_type": "stream",
     "text": [
      "Each of the 10000 product name is represented by 1664 features (TF-IDF score of unigrams and bigrams)\n"
     ]
    }
   ],
   "source": [
    "tfidf = TfidfVectorizer(sublinear_tf=True, min_df=5,\n",
    "                        ngram_range=(1, 2), \n",
    "                        stop_words='english')\n",
    "\n",
    "# We transform each complaint into a vector\n",
    "features = tfidf.fit_transform(data1.NAME).toarray()\n",
    "\n",
    "labels = data1.CATEGORY\n",
    "\n",
    "print(\"Each of the %d product name is represented by %d features (TF-IDF score of unigrams and bigrams)\" %(features.shape))"
   ]
  },
  {
   "cell_type": "code",
   "execution_count": 22,
   "metadata": {},
   "outputs": [
    {
     "name": "stdout",
     "output_type": "stream",
     "text": [
      "\n",
      "==> Accesories:\n",
      "  * Most Correlated Unigrams are: freelift, free, zaveri\n",
      "  * Most Correlated Bigrams are: french connect, free author, zaveri pearl\n",
      "\n",
      "==> Casual Shirts:\n",
      "  * Most Correlated Unigrams are: freelift, free, zaveri\n",
      "  * Most Correlated Bigrams are: french connect, free author, zaveri pearl\n",
      "\n",
      "==> Formal Shirts:\n",
      "  * Most Correlated Unigrams are: freelift, free, zaveri\n",
      "  * Most Correlated Bigrams are: french connect, free author, zaveri pearl\n",
      "\n",
      "==> Innerwear & Sleapwear:\n",
      "  * Most Correlated Unigrams are: freelift, free, zaveri\n",
      "  * Most Correlated Bigrams are: french connect, free author, zaveri pearl\n",
      "\n",
      "==> Jeans:\n",
      "  * Most Correlated Unigrams are: freelift, free, zaveri\n",
      "  * Most Correlated Bigrams are: french connect, free author, zaveri pearl\n",
      "\n",
      "==> Men Casual Trousers:\n",
      "  * Most Correlated Unigrams are: freelift, free, zaveri\n",
      "  * Most Correlated Bigrams are: french connect, free author, zaveri pearl\n",
      "\n",
      "==> Men Formal Trousers:\n",
      "  * Most Correlated Unigrams are: freelift, free, zaveri\n",
      "  * Most Correlated Bigrams are: french connect, free author, zaveri pearl\n",
      "\n",
      "==> Men Jackets Coats:\n",
      "  * Most Correlated Unigrams are: freelift, free, zaveri\n",
      "  * Most Correlated Bigrams are: french connect, free author, zaveri pearl\n",
      "\n",
      "==> Men Suits:\n",
      "  * Most Correlated Unigrams are: freelift, free, zaveri\n",
      "  * Most Correlated Bigrams are: french connect, free author, zaveri pearl\n",
      "\n",
      "==> Men Swimwear:\n",
      "  * Most Correlated Unigrams are: freelift, free, zaveri\n",
      "  * Most Correlated Bigrams are: french connect, free author, zaveri pearl\n",
      "\n",
      "==> T-Shirts:\n",
      "  * Most Correlated Unigrams are: freelift, free, zaveri\n",
      "  * Most Correlated Bigrams are: french connect, free author, zaveri pearl\n"
     ]
    }
   ],
   "source": [
    "# Finding the three most correlated terms with each of the product categories\n",
    "N = 3\n",
    "for CATEGORY, CATEGORY_ID in sorted(CATEGORY_TO_ID.items()):\n",
    "    features_chi2 = chi2(features, labels == CATEGORY_ID)\n",
    "    indices = np.argsort(features_chi2[0])\n",
    "    feature_names = np.array(tfidf.get_feature_names())[indices]\n",
    "    unigrams = [v for v in feature_names if len(v.split(' ')) == 1]\n",
    "    bigrams = [v for v in feature_names if len(v.split(' ')) == 2]\n",
    "    print(\"\\n==> %s:\" %(CATEGORY))\n",
    "    print(\"  * Most Correlated Unigrams are: %s\" %(', '.join(unigrams[-N:])))\n",
    "    print(\"  * Most Correlated Bigrams are: %s\" %(', '.join(bigrams[-N:])))"
   ]
  },
  {
   "cell_type": "markdown",
   "metadata": {},
   "source": [
    "## Modeling"
   ]
  },
  {
   "cell_type": "code",
   "execution_count": 23,
   "metadata": {},
   "outputs": [],
   "source": [
    "X = data1['NAME'] # Collection of documents\n",
    "y = data1['CATEGORY'] # Target or the labels we want to predict \n",
    "\n",
    "X_train, X_test, y_train, y_test = train_test_split(X, y, \n",
    "                                                    test_size=0.25,\n",
    "                                                    random_state = 0)"
   ]
  },
  {
   "cell_type": "code",
   "execution_count": 24,
   "metadata": {},
   "outputs": [
    {
     "name": "stderr",
     "output_type": "stream",
     "text": [
      "C:\\Users\\ITD_Stu\\Anaconda3\\lib\\site-packages\\sklearn\\linear_model\\logistic.py:432: FutureWarning: Default solver will be changed to 'lbfgs' in 0.22. Specify a solver to silence this warning.\n",
      "  FutureWarning)\n",
      "C:\\Users\\ITD_Stu\\Anaconda3\\lib\\site-packages\\sklearn\\linear_model\\logistic.py:469: FutureWarning: Default multi_class will be changed to 'auto' in 0.22. Specify the multi_class option to silence this warning.\n",
      "  \"this warning.\", FutureWarning)\n",
      "C:\\Users\\ITD_Stu\\Anaconda3\\lib\\site-packages\\sklearn\\linear_model\\logistic.py:432: FutureWarning: Default solver will be changed to 'lbfgs' in 0.22. Specify a solver to silence this warning.\n",
      "  FutureWarning)\n",
      "C:\\Users\\ITD_Stu\\Anaconda3\\lib\\site-packages\\sklearn\\linear_model\\logistic.py:469: FutureWarning: Default multi_class will be changed to 'auto' in 0.22. Specify the multi_class option to silence this warning.\n",
      "  \"this warning.\", FutureWarning)\n",
      "C:\\Users\\ITD_Stu\\Anaconda3\\lib\\site-packages\\sklearn\\linear_model\\logistic.py:432: FutureWarning: Default solver will be changed to 'lbfgs' in 0.22. Specify a solver to silence this warning.\n",
      "  FutureWarning)\n",
      "C:\\Users\\ITD_Stu\\Anaconda3\\lib\\site-packages\\sklearn\\linear_model\\logistic.py:469: FutureWarning: Default multi_class will be changed to 'auto' in 0.22. Specify the multi_class option to silence this warning.\n",
      "  \"this warning.\", FutureWarning)\n",
      "C:\\Users\\ITD_Stu\\Anaconda3\\lib\\site-packages\\sklearn\\linear_model\\logistic.py:432: FutureWarning: Default solver will be changed to 'lbfgs' in 0.22. Specify a solver to silence this warning.\n",
      "  FutureWarning)\n",
      "C:\\Users\\ITD_Stu\\Anaconda3\\lib\\site-packages\\sklearn\\linear_model\\logistic.py:469: FutureWarning: Default multi_class will be changed to 'auto' in 0.22. Specify the multi_class option to silence this warning.\n",
      "  \"this warning.\", FutureWarning)\n",
      "C:\\Users\\ITD_Stu\\Anaconda3\\lib\\site-packages\\sklearn\\linear_model\\logistic.py:432: FutureWarning: Default solver will be changed to 'lbfgs' in 0.22. Specify a solver to silence this warning.\n",
      "  FutureWarning)\n",
      "C:\\Users\\ITD_Stu\\Anaconda3\\lib\\site-packages\\sklearn\\linear_model\\logistic.py:469: FutureWarning: Default multi_class will be changed to 'auto' in 0.22. Specify the multi_class option to silence this warning.\n",
      "  \"this warning.\", FutureWarning)\n"
     ]
    }
   ],
   "source": [
    "models = [\n",
    "    RandomForestClassifier(n_estimators=100, max_depth=5, random_state=0),\n",
    "    LinearSVC(),\n",
    "    MultinomialNB(),\n",
    "    LogisticRegression(random_state=0),\n",
    "]\n",
    "\n",
    "# 5 Cross-validation\n",
    "CV = 5\n",
    "cv_df = pd.DataFrame(index=range(CV * len(models)))\n",
    "\n",
    "entries = []\n",
    "for model in models:\n",
    "    model_name = model.__class__.__name__\n",
    "    accuracies = cross_val_score(model, features, labels, scoring='accuracy', cv=CV)\n",
    "    for fold_idx, accuracy in enumerate(accuracies):\n",
    "        entries.append((model_name, fold_idx, accuracy))\n",
    "    \n",
    "cv_df = pd.DataFrame(entries, columns=['model_name', 'fold_idx', 'accuracy'])"
   ]
  },
  {
   "cell_type": "code",
   "execution_count": 25,
   "metadata": {},
   "outputs": [
    {
     "data": {
      "text/html": [
       "<div>\n",
       "<style scoped>\n",
       "    .dataframe tbody tr th:only-of-type {\n",
       "        vertical-align: middle;\n",
       "    }\n",
       "\n",
       "    .dataframe tbody tr th {\n",
       "        vertical-align: top;\n",
       "    }\n",
       "\n",
       "    .dataframe thead th {\n",
       "        text-align: right;\n",
       "    }\n",
       "</style>\n",
       "<table border=\"1\" class=\"dataframe\">\n",
       "  <thead>\n",
       "    <tr style=\"text-align: right;\">\n",
       "      <th></th>\n",
       "      <th>Mean Accuracy</th>\n",
       "      <th>Standard deviation</th>\n",
       "    </tr>\n",
       "    <tr>\n",
       "      <th>model_name</th>\n",
       "      <th></th>\n",
       "      <th></th>\n",
       "    </tr>\n",
       "  </thead>\n",
       "  <tbody>\n",
       "    <tr>\n",
       "      <th>LinearSVC</th>\n",
       "      <td>0.990601</td>\n",
       "      <td>0.002377</td>\n",
       "    </tr>\n",
       "    <tr>\n",
       "      <th>LogisticRegression</th>\n",
       "      <td>0.986601</td>\n",
       "      <td>0.001837</td>\n",
       "    </tr>\n",
       "    <tr>\n",
       "      <th>MultinomialNB</th>\n",
       "      <td>0.970701</td>\n",
       "      <td>0.002693</td>\n",
       "    </tr>\n",
       "    <tr>\n",
       "      <th>RandomForestClassifier</th>\n",
       "      <td>0.799802</td>\n",
       "      <td>0.004147</td>\n",
       "    </tr>\n",
       "  </tbody>\n",
       "</table>\n",
       "</div>"
      ],
      "text/plain": [
       "                        Mean Accuracy  Standard deviation\n",
       "model_name                                               \n",
       "LinearSVC                    0.990601            0.002377\n",
       "LogisticRegression           0.986601            0.001837\n",
       "MultinomialNB                0.970701            0.002693\n",
       "RandomForestClassifier       0.799802            0.004147"
      ]
     },
     "execution_count": 25,
     "metadata": {},
     "output_type": "execute_result"
    }
   ],
   "source": [
    "mean_accuracy = cv_df.groupby('model_name').accuracy.mean()\n",
    "std_accuracy = cv_df.groupby('model_name').accuracy.std()\n",
    "\n",
    "acc = pd.concat([mean_accuracy, std_accuracy], axis= 1, \n",
    "          ignore_index=True)\n",
    "acc.columns = ['Mean Accuracy', 'Standard deviation']\n",
    "acc"
   ]
  },
  {
   "cell_type": "code",
   "execution_count": 26,
   "metadata": {},
   "outputs": [
    {
     "data": {
      "image/png": "[encoded data removed]",
      "text/plain": [
       "<Figure size 576x360 with 1 Axes>"
      ]
     },
     "metadata": {
      "needs_background": "light"
     },
     "output_type": "display_data"
    }
   ],
   "source": [
    "plt.figure(figsize=(8,5))\n",
    "sns.boxplot(x='model_name', y='accuracy', \n",
    "            data=cv_df, \n",
    "            color='lightblue', \n",
    "            showmeans=True)\n",
    "plt.title(\"MEAN ACCURACY (cv = 5)\\n\", size=14);"
   ]
  },
  {
   "cell_type": "markdown",
   "metadata": {},
   "source": [
    "## Model Evaluation"
   ]
  },
  {
   "cell_type": "code",
   "execution_count": 27,
   "metadata": {},
   "outputs": [],
   "source": [
    "X_train, X_test, y_train, y_test,indices_train,indices_test = train_test_split(features, \n",
    "                                                               labels, \n",
    "                                                               data1.index, test_size=0.25, \n",
    "                                                               random_state=1)\n",
    "model = LinearSVC()\n",
    "model.fit(X_train, y_train)\n",
    "y_pred = model.predict(X_test)"
   ]
  },
  {
   "cell_type": "code",
   "execution_count": 28,
   "metadata": {},
   "outputs": [
    {
     "name": "stdout",
     "output_type": "stream",
     "text": [
      "\t\t\t\tCLASSIFICATIION METRICS\n",
      "\n",
      "                       precision    recall  f1-score   support\n",
      "\n",
      "    Men Jackets Coats       1.00      0.99      1.00       153\n",
      "  Men Formal Trousers       0.93      0.97      0.95       157\n",
      "Innerwear & Sleapwear       0.97      0.95      0.96       242\n",
      "        Formal Shirts       1.00      1.00      1.00        44\n",
      "             T-Shirts       1.00      1.00      1.00       469\n",
      "                Jeans       1.00      0.99      0.99       214\n",
      "        Casual Shirts       0.99      0.99      0.99       124\n",
      "  Men Casual Trousers       1.00      1.00      1.00       163\n",
      "           Accesories       1.00      1.00      1.00        22\n",
      "            Men Suits       1.00      1.00      1.00         4\n",
      "         Men Swimwear       1.00      1.00      1.00       908\n",
      "\n",
      "             accuracy                           0.99      2500\n",
      "            macro avg       0.99      0.99      0.99      2500\n",
      "         weighted avg       0.99      0.99      0.99      2500\n",
      "\n"
     ]
    }
   ],
   "source": [
    "# Classification report\n",
    "print('\\t\\t\\t\\tCLASSIFICATIION METRICS\\n')\n",
    "print(metrics.classification_report(y_test, y_pred, target_names = data1['CATEGORY'].unique()))"
   ]
  },
  {
   "cell_type": "markdown",
   "metadata": {},
   "source": [
    "## Confusion Matrix"
   ]
  },
  {
   "cell_type": "code",
   "execution_count": 29,
   "metadata": {},
   "outputs": [
    {
     "data": {
      "image/png": "[encoded data removed]",
      "text/plain": [
       "<Figure size 576x576 with 2 Axes>"
      ]
     },
     "metadata": {
      "needs_background": "light"
     },
     "output_type": "display_data"
    }
   ],
   "source": [
    "conf_mat = confusion_matrix(y_test, y_pred)\n",
    "fig, ax = plt.subplots(figsize=(8,8))\n",
    "sns.heatmap(conf_mat, annot=True, cmap=\"Blues\", fmt='d',\n",
    "            xticklabels=CATEGORY_ID_DF.CATEGORY.values, \n",
    "            yticklabels=CATEGORY_ID_DF.CATEGORY.values)\n",
    "plt.ylabel('Actual')\n",
    "plt.xlabel('Predicted')\n",
    "plt.title(\"CONFUSION MATRIX - LinearSVC\\n\", size=16);"
   ]
  },
  {
   "cell_type": "code",
   "execution_count": 30,
   "metadata": {},
   "outputs": [
    {
     "data": {
      "text/plain": [
       "array([[1.        , 0.01430642, 0.00393803, ..., 0.        , 0.00344287,\n",
       "        0.01673756]])"
      ]
     },
     "execution_count": 30,
     "metadata": {},
     "output_type": "execute_result"
    }
   ],
   "source": [
    "from sklearn.metrics.pairwise import cosine_similarity\n",
    "cosine_similarity(features[0:1], features)"
   ]
  },
  {
   "cell_type": "markdown",
   "metadata": {},
   "source": [
    "## Prediction"
   ]
  },
  {
   "cell_type": "code",
   "execution_count": 31,
   "metadata": {},
   "outputs": [],
   "source": [
    "X_train, X_test, y_train, y_test = train_test_split(X, y, \n",
    "                                                    test_size=0.25,\n",
    "                                                    random_state = 0)\n",
    "\n",
    "tfidf = TfidfVectorizer(sublinear_tf=True, min_df=5,\n",
    "                        ngram_range=(1, 2), \n",
    "                        stop_words='english')\n",
    "\n",
    "fitted_vectorizer = tfidf.fit(X_train)\n",
    "tfidf_vectorizer_vectors = fitted_vectorizer.transform(X_train)\n",
    "\n",
    "model = LinearSVC().fit(tfidf_vectorizer_vectors, y_train)"
   ]
  },
  {
   "cell_type": "code",
   "execution_count": 41,
   "metadata": {},
   "outputs": [
    {
     "name": "stdout",
     "output_type": "stream",
     "text": [
      "['Men Jackets Coats']\n"
     ]
    }
   ],
   "source": [
    "new_product_name = \"\"\"Fort Collins Men Red Solid Padded Jacket\"\"\"\n",
    "\n",
    "print(model.predict(fitted_vectorizer.transform([new_product_name])))"
   ]
  },
  {
   "cell_type": "markdown",
   "metadata": {},
   "source": [
    "## Matching Product Name (Most Similar Product)"
   ]
  },
  {
   "cell_type": "code",
   "execution_count": 33,
   "metadata": {},
   "outputs": [
    {
     "data": {
      "text/plain": [
       "(10000, 1487)"
      ]
     },
     "execution_count": 33,
     "metadata": {},
     "output_type": "execute_result"
    }
   ],
   "source": [
    "#Import TfIdfVectorizer from scikit-learn\n",
    "from sklearn.feature_extraction.text import TfidfVectorizer\n",
    "\n",
    "#Define a TF-IDF Vectorizer Object. Remove all english stop words such as 'the', 'a'\n",
    "tfidf = TfidfVectorizer(stop_words='english')\n",
    "\n",
    "#Construct the required TF-IDF matrix by fitting and transforming the data\n",
    "tfidf_matrix = tfidf.fit_transform(data1['NAME'])\n",
    "\n",
    "#Output the shape of tfidf_matrix\n",
    "tfidf_matrix.shape"
   ]
  },
  {
   "cell_type": "code",
   "execution_count": 34,
   "metadata": {},
   "outputs": [],
   "source": [
    "# Import linear_kernel\n",
    "from sklearn.metrics.pairwise import linear_kernel\n",
    "\n",
    "# Compute the cosine similarity matrix\n",
    "cosine_sim = linear_kernel(tfidf_matrix, tfidf_matrix)"
   ]
  },
  {
   "cell_type": "code",
   "execution_count": 35,
   "metadata": {},
   "outputs": [],
   "source": [
    "def get_similarity_m(NAME,cosine_sim,data_clean,number_similar_products =10,show_simlar = 2):\n",
    "    similar_products = cosine_sim.argsort()[:-number_similar_products:-1]\n",
    "    similar_products = similar_products[1:,]\n",
    "    print(\"Similar product to {0} : \".format(NAME))\n",
    "    for x in similar_products:\n",
    "        print(x+1)\n",
    "    print('\\n')\n",
    "    print('Name of Most Similar Product:')\n",
    "    print(data1[\"NAME\"][similar_products[0]])\n",
    "    print('\\n')\n",
    "    print(data1[\"NAME\"][similar_products[1]])"
   ]
  },
  {
   "cell_type": "code",
   "execution_count": 36,
   "metadata": {},
   "outputs": [
    {
     "name": "stdout",
     "output_type": "stream",
     "text": [
      "Similar product to maniac men grey solid vneck tshirt : \n",
      "[1188 3753 3692 ... 9999 8486 7210]\n",
      "[   1 6590 6591 ... 3973 3970 9998]\n",
      "[ 813  379 4218 ... 8274  875 9997]\n",
      "[ 523 5087 5116 ... 8538  388 9996]\n",
      "[7852 7898 5625 ... 8664 9159 9995]\n",
      "[8517 8785 4802 ... 6194 9994 2981]\n",
      "[ 534 8730 6273 ... 6810 5216 9993]\n",
      "[4802 1191 4231 ... 7125 5303 9992]\n",
      "\n",
      "\n",
      "Name of Most Similar Product:\n"
     ]
    },
    {
     "name": "stderr",
     "output_type": "stream",
     "text": [
      "C:\\Users\\ITD_Stu\\Anaconda3\\lib\\site-packages\\pandas\\core\\series.py:942: FutureWarning: \n",
      "Passing list-likes to .loc or [] with any missing label will raise\n",
      "KeyError in the future, you can use .reindex() as an alternative.\n",
      "\n",
      "See the documentation here:\n",
      "https://pandas.pydata.org/pandas-docs/stable/indexing.html#deprecate-loc-reindex-listlike\n",
      "  return self.loc[key]\n"
     ]
    },
    {
     "name": "stdout",
     "output_type": "stream",
     "text": [
      "SERIAL NO\n",
      "1187                                                  NaN\n",
      "3752                                                  NaN\n",
      "3691                                                  NaN\n",
      "3682    us polo assn denim co men offwhit blue regular...\n",
      "7892                                                  NaN\n",
      "7897               levi men khaki regular fit solid chino\n",
      "7898                                                  NaN\n",
      "5494                                                  NaN\n",
      "1167                                                  NaN\n",
      "1168                                                  NaN\n",
      "7934                                                  NaN\n",
      "7941                                                  NaN\n",
      "3629                                                  NaN\n",
      "7954                                                  NaN\n",
      "7978                                                  NaN\n",
      "7982                                                  NaN\n",
      "3608                                                  NaN\n",
      "1181                                                  NaN\n",
      "8003                                                  NaN\n",
      "3594                                                  NaN\n",
      "1184      pacif gold men leather black accessori gift set\n",
      "3588                                                  NaN\n",
      "363                                                   NaN\n",
      "1190                                                  NaN\n",
      "3545                                                  NaN\n",
      "8059                                                  NaN\n",
      "8062                                                  NaN\n",
      "3544                                                  NaN\n",
      "7852                                                  NaN\n",
      "7840                                                  NaN\n",
      "                              ...                        \n",
      "6275                                                  NaN\n",
      "8970    arrow sport men grey smart slim fit solid regu...\n",
      "690                                                   NaN\n",
      "2583     chisel men black brown solid leather revers belt\n",
      "9407                                                  NaN\n",
      "3110    fli machin men yellow regular fit print casual...\n",
      "1026                                                  NaN\n",
      "3083                                                  NaN\n",
      "6220                                                  NaN\n",
      "7889                                                  NaN\n",
      "6119                                                  NaN\n",
      "2423                  chisel men brown leather solid belt\n",
      "1087                                                  NaN\n",
      "4068                                                  NaN\n",
      "7620                                                  NaN\n",
      "3660                                                  NaN\n",
      "281                                                   NaN\n",
      "696                                                   NaN\n",
      "6175                                                  NaN\n",
      "4543                                                  NaN\n",
      "1832                                                  NaN\n",
      "2863    us polo assn men brown black solid revers leat...\n",
      "3953                                                  NaN\n",
      "5110                                                  NaN\n",
      "6236            herenow men oliv green print casual shirt\n",
      "9487                                                  NaN\n",
      "3245                                                  NaN\n",
      "9998                                                  NaN\n",
      "8485               solemio men brown slim fit solid chino\n",
      "7209                                                  NaN\n",
      "Name: NAME, Length: 10000, dtype: object\n",
      "\n",
      "\n",
      "SERIAL NO\n",
      "0                                                     NaN\n",
      "6589                                                  NaN\n",
      "6590                                                  NaN\n",
      "6591                                                  NaN\n",
      "6592                                                  NaN\n",
      "6593    roadster men oliv green regular fit solid util...\n",
      "6594                                                  NaN\n",
      "6595                                                  NaN\n",
      "6596                                                  NaN\n",
      "6597                                                  NaN\n",
      "6598                                                  NaN\n",
      "6599                                                  NaN\n",
      "6600    ecko unltd men grey white slim fit print casua...\n",
      "6601                                                  NaN\n",
      "6602                                                  NaN\n",
      "6603                                                  NaN\n",
      "6588                                                  NaN\n",
      "6604                                                  NaN\n",
      "6587    fli machin men navi blue pink regular fit chec...\n",
      "6585                                                  NaN\n",
      "6570                                                  NaN\n",
      "6571                                                  NaN\n",
      "6572                                                  NaN\n",
      "6573                                                  NaN\n",
      "6574                                                  NaN\n",
      "6575                                                  NaN\n",
      "6576                                                  NaN\n",
      "6577                                                  NaN\n",
      "6578                                                  NaN\n",
      "6579                                                  NaN\n",
      "                              ...                        \n",
      "2574          invictu blue offwhit woven design broad tie\n",
      "8293                                                  NaN\n",
      "1588                              zido blue oval cufflink\n",
      "1497     roadster men black solid two fold leather wallet\n",
      "5933                                                  NaN\n",
      "6053                                                  NaN\n",
      "4470                                                  NaN\n",
      "7436                                                  NaN\n",
      "1347    unit color benetton men navi blue solid two fo...\n",
      "2524           hidesign men black leather two fold wallet\n",
      "4008                                                  NaN\n",
      "8026                                                  NaN\n",
      "339                                                   NaN\n",
      "7829                                                  NaN\n",
      "4119                                                  NaN\n",
      "536                                                   NaN\n",
      "1389                                                  NaN\n",
      "1533                                                  NaN\n",
      "4350                                                  NaN\n",
      "9894                                                  NaN\n",
      "3843                                                  NaN\n",
      "4125      herenow men blue regular fit check casual shirt\n",
      "7157                                                  NaN\n",
      "5363                                                  NaN\n",
      "799                                                   NaN\n",
      "4156                                                  NaN\n",
      "5455                                                  NaN\n",
      "3972     ether men white anti microbi cotton poplin shirt\n",
      "3969                                                  NaN\n",
      "9997                                                  NaN\n",
      "Name: NAME, Length: 10000, dtype: object\n"
     ]
    }
   ],
   "source": [
    "get_similarity_m('maniac men grey solid vneck tshirt',cosine_sim,data1)"
   ]
  }
 ],
 "metadata": {
  "kernelspec": {
   "display_name": "Python 3",
   "language": "python",
   "name": "python3"
  },
  "language_info": {
   "codemirror_mode": {
    "name": "ipython",
    "version": 3
   },
   "file_extension": ".py",
   "mimetype": "text/x-python",
   "name": "python",
   "nbconvert_exporter": "python",
   "pygments_lexer": "ipython3",
   "version": "3.7.3"
  }
 },
 "nbformat": 4,
 "nbformat_minor": 2
}
